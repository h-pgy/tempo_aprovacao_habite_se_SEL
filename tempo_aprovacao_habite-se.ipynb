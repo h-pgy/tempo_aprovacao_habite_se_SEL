{
 "cells": [
  {
   "cell_type": "code",
   "execution_count": 1,
   "metadata": {},
   "outputs": [],
   "source": [
    "import requests\n",
    "from bs4 import BeautifulSoup\n",
    "import pandas as pd\n",
    "from io import BytesIO\n",
    "import unidecode"
   ]
  },
  {
   "cell_type": "code",
   "execution_count": 2,
   "metadata": {},
   "outputs": [],
   "source": [
    "pagina_relatorios = r'https://www.prefeitura.sp.gov.br/cidade/secretarias/licenciamento/servicos/index.php?p=3334'"
   ]
  },
  {
   "cell_type": "code",
   "execution_count": 3,
   "metadata": {},
   "outputs": [],
   "source": [
    "def pegar_links_relatorios(pagina_relatorios):\n",
    "    \n",
    "    \n",
    "    with requests.get(pagina_relatorios) as r:\n",
    "        html = r.text\n",
    "    sopa = BeautifulSoup(html)\n",
    "    tabelas = sopa.find_all('tbody')\n",
    "    links = []\n",
    "    for table in tabelas:\n",
    "        links_header = table.find_all('th')\n",
    "        links.extend(links_header)\n",
    "        links_rows = table.find_all('tr')\n",
    "        links.extend(links_rows)\n",
    "    links = [link.find('a')['href'] for link in links]\n",
    "    links = [link for link in links if link.endswith('.xls') or link.endswith('.xlsx')]\n",
    "    return links"
   ]
  },
  {
   "cell_type": "code",
   "execution_count": 4,
   "metadata": {},
   "outputs": [],
   "source": [
    "links = pegar_links_relatorios(pagina_relatorios)\n",
    "anuais = {int(''.join([char for char in link.split('/')[-1] if char.isdigit()][:4])) : link\n",
    "              for link in links if \"anual\" in link.lower()}"
   ]
  },
  {
   "cell_type": "code",
   "execution_count": 5,
   "metadata": {},
   "outputs": [],
   "source": [
    "def baixar_planilha(link, salvar = False):\n",
    "    \n",
    "    with requests.get(link) as r:\n",
    "        excel = r.content\n",
    "    file_handle = BytesIO(excel)\n",
    "    df  = pd.read_excel(file_handle)\n",
    "    if salvar:\n",
    "        filename = link.split('/')[-1]\n",
    "        pd.to_excel(filename)\n",
    "    return df"
   ]
  },
  {
   "cell_type": "code",
   "execution_count": 6,
   "metadata": {},
   "outputs": [],
   "source": [
    "def rename_cols(df):\n",
    "    \n",
    "    cols_df = df.columns\n",
    "    cols_novas = [unidecode.unidecode(col.lower().strip())\n",
    "                 for col in cols_df]\n",
    "    mapper = dict(zip(cols_df, cols_novas))\n",
    "    \n",
    "    df.rename(mapper, axis =1, inplace=  True)\n",
    "    "
   ]
  },
  {
   "cell_type": "code",
   "execution_count": 7,
   "metadata": {},
   "outputs": [],
   "source": [
    "def juntar_tudo_anual(anuais, salvar = False):\n",
    "    \n",
    "    dfs = []\n",
    "    for ano, link in anuais.items():\n",
    "        if ano > 2015: #antes disso tem que arrumar muito os dados\n",
    "            df = baixar_planilha(link, salvar)\n",
    "            df['ANO'] = ano\n",
    "            rename_cols(df)\n",
    "            dfs.append(df)\n",
    "    final = pd.concat(dfs, sort = False)\n",
    "    \n",
    "    return final"
   ]
  },
  {
   "cell_type": "code",
   "execution_count": 37,
   "metadata": {},
   "outputs": [],
   "source": [
    "def gerar_tempo_aprov(df):\n",
    "    \n",
    "    df['aprovacao_dt'] = pd.to_datetime(df['aprovacao'], format = '%d/%m/%Y')\n",
    "    df['data_autuacao_dt'] = pd.to_datetime(df['data autuacao'],  format = '%d/%m/%Y')\n",
    "    df['tempo_aprov'] = df['aprovacao_dt'] - df['data_autuacao_dt']"
   ]
  },
  {
   "cell_type": "code",
   "execution_count": 38,
   "metadata": {},
   "outputs": [],
   "source": [
    "tudo = juntar_tudo_anual(anuais)\n",
    "gerar_tempo_aprov(tudo)"
   ]
  },
  {
   "cell_type": "code",
   "execution_count": 39,
   "metadata": {},
   "outputs": [
    {
     "data": {
      "text/plain": [
       "0       761 days\n",
       "1      3095 days\n",
       "2      2227 days\n",
       "3      2227 days\n",
       "4       646 days\n",
       "          ...   \n",
       "5523    184 days\n",
       "5524    171 days\n",
       "5525   1540 days\n",
       "5526   1127 days\n",
       "5527   3655 days\n",
       "Name: tempo_aprov, Length: 21477, dtype: timedelta64[ns]"
      ]
     },
     "execution_count": 39,
     "metadata": {},
     "output_type": "execute_result"
    }
   ],
   "source": [
    "tudo['tempo_aprov']"
   ]
  },
  {
   "cell_type": "code",
   "execution_count": 40,
   "metadata": {},
   "outputs": [
    {
     "name": "stdout",
     "output_type": "stream",
     "text": [
      "APOSTILAMENTO DO CERTIFICADO DE CONCLUSAO\n",
      "RECONSIDERACAO DE DESPACHO DE CERTIFICADO DE CONCLUSAO\n",
      "CERTIFICADO DE CONCLUSAO\n"
     ]
    }
   ],
   "source": [
    "for desc in tudo['descricao'].unique():\n",
    "    if 'CONCLUSAO' in desc:\n",
    "        print(desc)"
   ]
  },
  {
   "cell_type": "code",
   "execution_count": 41,
   "metadata": {},
   "outputs": [],
   "source": [
    "tudo['habite_se'] = tudo['descricao'].apply(lambda x: 'CONCLUSAO' in x)"
   ]
  },
  {
   "cell_type": "code",
   "execution_count": 42,
   "metadata": {},
   "outputs": [],
   "source": [
    "habite_se = tudo[tudo['habite_se']].copy()"
   ]
  },
  {
   "cell_type": "code",
   "execution_count": 43,
   "metadata": {},
   "outputs": [],
   "source": [
    "habite_se['count'] = 1"
   ]
  },
  {
   "cell_type": "code",
   "execution_count": 44,
   "metadata": {},
   "outputs": [],
   "source": [
    "habite_se['mes_aprov'] = habite_se['aprovacao_dt'].apply(lambda x: x.month)"
   ]
  },
  {
   "cell_type": "code",
   "execution_count": 45,
   "metadata": {},
   "outputs": [],
   "source": [
    "habite_se['ano_aprov'] = habite_se['aprovacao_dt'].apply(lambda x: x.year)"
   ]
  },
  {
   "cell_type": "code",
   "execution_count": 55,
   "metadata": {},
   "outputs": [],
   "source": [
    "habite_se['media_tempo_aprov_dias'] = habite_se['tempo_aprov'].apply(lambda x: int(x.days))"
   ]
  },
  {
   "cell_type": "code",
   "execution_count": 56,
   "metadata": {},
   "outputs": [
    {
     "data": {
      "text/html": [
       "<div>\n",
       "<style scoped>\n",
       "    .dataframe tbody tr th:only-of-type {\n",
       "        vertical-align: middle;\n",
       "    }\n",
       "\n",
       "    .dataframe tbody tr th {\n",
       "        vertical-align: top;\n",
       "    }\n",
       "\n",
       "    .dataframe thead th {\n",
       "        text-align: right;\n",
       "    }\n",
       "</style>\n",
       "<table border=\"1\" class=\"dataframe\">\n",
       "  <thead>\n",
       "    <tr style=\"text-align: right;\">\n",
       "      <th></th>\n",
       "      <th>data autuacao</th>\n",
       "      <th>aprovacao</th>\n",
       "      <th>aprovacao_dt</th>\n",
       "      <th>data_autuacao_dt</th>\n",
       "    </tr>\n",
       "  </thead>\n",
       "  <tbody>\n",
       "  </tbody>\n",
       "</table>\n",
       "</div>"
      ],
      "text/plain": [
       "Empty DataFrame\n",
       "Columns: [data autuacao, aprovacao, aprovacao_dt, data_autuacao_dt]\n",
       "Index: []"
      ]
     },
     "execution_count": 56,
     "metadata": {},
     "output_type": "execute_result"
    }
   ],
   "source": [
    "tudo[tudo['tempo_aprov'].apply(lambda x: int(x.days) if not pd.isnull(x) else x)<1][['data autuacao', 'aprovacao', 'aprovacao_dt', 'data_autuacao_dt']]"
   ]
  },
  {
   "cell_type": "code",
   "execution_count": 57,
   "metadata": {},
   "outputs": [],
   "source": [
    "habite_se.groupby(['ano_aprov', 'mes_aprov']).mean()[['media_tempo_aprov_dias']].to_excel('tempo_habite_se.xlsx')"
   ]
  },
  {
   "cell_type": "code",
   "execution_count": null,
   "metadata": {},
   "outputs": [],
   "source": []
  }
 ],
 "metadata": {
  "kernelspec": {
   "display_name": "Python 3",
   "language": "python",
   "name": "python3"
  },
  "language_info": {
   "codemirror_mode": {
    "name": "ipython",
    "version": 3
   },
   "file_extension": ".py",
   "mimetype": "text/x-python",
   "name": "python",
   "nbconvert_exporter": "python",
   "pygments_lexer": "ipython3",
   "version": "3.7.4"
  }
 },
 "nbformat": 4,
 "nbformat_minor": 4
}
